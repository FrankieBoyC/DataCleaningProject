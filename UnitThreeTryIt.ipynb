{
  "nbformat": 4,
  "nbformat_minor": 0,
  "metadata": {
    "colab": {
      "provenance": [],
      "authorship_tag": "ABX9TyM2DnTJcZXQsZe9jMfbnZY0",
      "include_colab_link": true
    },
    "kernelspec": {
      "name": "python3",
      "display_name": "Python 3"
    },
    "language_info": {
      "name": "python"
    }
  },
  "cells": [
    {
      "cell_type": "markdown",
      "metadata": {
        "id": "view-in-github",
        "colab_type": "text"
      },
      "source": [
        "<a href=\"https://colab.research.google.com/github/FrankieBoyC/DataCleaningProject/blob/main/UnitThreeTryIt.ipynb\" target=\"_parent\"><img src=\"https://colab.research.google.com/assets/colab-badge.svg\" alt=\"Open In Colab\"/></a>"
      ]
    },
    {
      "cell_type": "code",
      "execution_count": null,
      "metadata": {
        "id": "qb4cyANOwi59"
      },
      "outputs": [],
      "source": [
        "import pandas as pd\n",
        "import seaborn as sns\n",
        "from scipy import stats\n",
        "import numpy as np\n",
        "import matplotlib.pyplot as plt\n",
        "from sklearn.model_selection import train_test_split\n",
        "from sklearn.metrics import accuracy_score\n",
        "from sklearn.linear_model import LinearRegression\n",
        "from sklearn.preprocessing import OneHotEncoder, StandardScaler\n",
        "from sklearn.compose import ColumnTransformer\n",
        "from sklearn.pipeline import Pipeline\n",
        "from sklearn.cluster import KMeans\n",
        "from sklearn.datasets import make_blobs\n",
        "from sklearn import cluster\n",
        "\n",
        "\n",
        "\n",
        "titanic = sns.load_dataset('titanic')\n",
        "df = pd.DataFrame(titanic)\n",
        "df"
      ]
    },
    {
      "cell_type": "code",
      "source": [
        "# Number One\n",
        "# Finding Outliers\n",
        "Q1 = df['age'].quantile(0.25)\n",
        "Q3 = df['age'].quantile(0.75)\n",
        "IQR = Q3 - Q1\n",
        "\n",
        "threshold = 1.5\n",
        "outliers = df[(df['age'] < Q1 - threshold * IQR) | (df['age'] > Q3 + threshold * IQR)]\n",
        "print(outliers)"
      ],
      "metadata": {
        "id": "3AeO2yTaw7zI"
      },
      "execution_count": null,
      "outputs": []
    },
    {
      "cell_type": "code",
      "source": [
        "# Number Two\n",
        "# Scatter Plot\n",
        "plt.scatter(df['age'], df['fare'])\n",
        "plt.title('Titanic Scatter Plot')\n",
        "plt.xlabel('Age')\n",
        "plt.ylabel('Fare')\n",
        "plt.show"
      ],
      "metadata": {
        "id": "qs2O0cxd-zI3"
      },
      "execution_count": null,
      "outputs": []
    },
    {
      "cell_type": "code",
      "source": [
        "# Histogram\n",
        "plt.figure(figsize=(8, 6))\n",
        "plt.hist(df['fare'], bins=20)\n",
        "plt.title('Titanic Histogram')\n",
        "plt.xlabel('Fare')\n",
        "plt.ylabel('Frequency')\n",
        "plt.show()"
      ],
      "metadata": {
        "id": "7Dg9EQ3WBjLb"
      },
      "execution_count": null,
      "outputs": []
    },
    {
      "cell_type": "code",
      "source": [
        "# Box Plot\n",
        "plt.figure(figsize=(8, 6))\n",
        "df.boxplot(column='age', by='sex')\n",
        "plt.title('Titanic Box Plot')\n",
        "plt.ylabel ('Blood Pressure (bp)')\n",
        "plt.show()"
      ],
      "metadata": {
        "id": "jIGaVda_BfMm"
      },
      "execution_count": null,
      "outputs": []
    },
    {
      "cell_type": "code",
      "source": [
        "# Number Three\n",
        "# Correlation Matrix\n",
        "# adult_men had a very strong negative correlation so it is easy to point out that women and children survived at a higher rate.\n",
        "correlation = df.corr(numeric_only = True)\n",
        "print(correlation)"
      ],
      "metadata": {
        "id": "Xxd-fDmyBm3y"
      },
      "execution_count": null,
      "outputs": []
    },
    {
      "cell_type": "code",
      "source": [
        "# Number Four\n",
        "# Prediction Model\n",
        "# Drop columns that are not useful for prediction\n",
        "X = df.drop(columns=['survived', 'class', 'parch'])\n",
        "\n",
        "# Handle missing values appropriately, e.g., filling with median or mode\n",
        "X['age'].fillna(X['age'].median(), inplace=True)\n",
        "X['embarked'].fillna(X['embarked'].mode()[0], inplace=True)\n",
        "\n",
        "# Select categorical columns and numeric columns\n",
        "categorical_cols = ['sex', 'embarked']\n",
        "numeric_cols = X.select_dtypes(include=['float64', 'int64']).columns.tolist()\n",
        "\n",
        "# Create a preprocessing pipeline\n",
        "numeric_transformer = Pipeline(steps=[\n",
        "    ('scaler', StandardScaler())])\n",
        "\n",
        "categorical_transformer = Pipeline(steps=[\n",
        "    ('onehot', OneHotEncoder(handle_unknown='ignore'))])\n",
        "\n",
        "preprocessor = ColumnTransformer(\n",
        "    transformers=[\n",
        "        ('num', numeric_transformer, numeric_cols),\n",
        "        ('cat', categorical_transformer, categorical_cols)])\n",
        "\n",
        "# Split data into training and test sets\n",
        "y = df['survived']\n",
        "X_train, X_test, y_train, y_test = train_test_split(X, y, test_size=0.3, random_state=42)\n",
        "\n",
        "# Apply preprocessing to training and test data\n",
        "X_train_processed = preprocessor.fit_transform(X_train)\n",
        "X_test_processed = preprocessor.transform(X_test)\n",
        "\n",
        "# Train the model\n",
        "lr = LinearRegression()\n",
        "lr.fit(X_train_processed, y_train)\n",
        "\n",
        "# Predict on test data\n",
        "pred = lr.predict(X_test_processed).reshape(-1, 1)\n",
        "print(pred)"
      ],
      "metadata": {
        "id": "RTJFQU7_9uIt"
      },
      "execution_count": null,
      "outputs": []
    },
    {
      "cell_type": "code",
      "source": [
        "# Function to make a prediction\n",
        "def predict_survival(passenger_class, sex, passenger_age, siblings_spouses, parents_children, ticket_fare, port_embarked, travel_class, person_type, male, deck_level, home_town, survival_status, solo_traveler):\n",
        "    data_to_predict = np.array([[passenger_class, sex, passenger_age, siblings_spouses, parents_children, ticket_fare, port_embarked, travel_class, person_type, male, deck_level, home_town, survival_status, solo_traveler]])\n",
        "    lR_model = LinearRegression()\n",
        "    lR_model.fit(data_to_predict, np.array([0]))\n",
        "    predicted = lR_model.predict(data_to_predict).reshape(-1, 1)\n",
        "    if predicted == 0:\n",
        "        print(\"Did not survive\")\n",
        "    else:\n",
        "        print(\"Survived\")\n",
        "\n",
        "# function call\n",
        "predict_survival(3, 0, 25.0, 0, 0, 8.05, 0, 3, 1, 1, 3, 0, 0, 1)"
      ],
      "metadata": {
        "id": "rbaa3Q0rtSxE"
      },
      "execution_count": null,
      "outputs": []
    },
    {
      "cell_type": "code",
      "source": [
        "# Number Five\n",
        "# K-Means Clustering\n",
        "from sklearn.datasets import make_blobs\n",
        "from seaborn.utils import plt\n",
        "from sklearn.cluster import KMeans\n",
        "\n",
        "X2, y2 = make_blobs(n_samples=200, centers=3,\n",
        "                       cluster_std=0.50, random_state=0)\n",
        "\n",
        "plt.scatter(X2[:, 0], X2[:, 1], s=50,alpha=0.5, cmap='viridis')"
      ],
      "metadata": {
        "id": "_-SIx3spxeQP"
      },
      "execution_count": null,
      "outputs": []
    },
    {
      "cell_type": "code",
      "source": [
        "# Number Six\n",
        "iris = sns.load_dataset('iris')\n",
        "df = pd.DataFrame(iris)\n",
        "\n",
        "import plotly.express as px\n",
        "fig = px.scatter(titanic, x='sepal_length', y='sepal_width', hover_name='species') #The info shows by hovering the mouse on a data point in a Plotly visualization.\n",
        "fig.update_layout(title_text=\"Iris Data Set Cluster\",\n",
        "                  title_font_size=30)\n",
        "fig.show()\n"
      ],
      "metadata": {
        "id": "64_Ytyr5m_EY"
      },
      "execution_count": null,
      "outputs": []
    }
  ]
}